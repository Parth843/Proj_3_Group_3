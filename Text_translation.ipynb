{
  "nbformat": 4,
  "nbformat_minor": 0,
  "metadata": {
    "colab": {
      "name": "Text translation.ipynb",
      "provenance": []
    },
    "kernelspec": {
      "name": "python3",
      "display_name": "Python 3"
    },
    "language_info": {
      "name": "python"
    }
  },
  "cells": [
    {
      "cell_type": "code",
      "metadata": {
        "colab": {
          "base_uri": "https://localhost:8080/"
        },
        "id": "CQ4NZ5Qprina",
        "outputId": "3ad9907b-8880-4dfa-ef38-4dd74b92c426"
      },
      "source": [
        "from google.colab import drive\n",
        "drive.mount('/content/drive')"
      ],
      "execution_count": 66,
      "outputs": [
        {
          "output_type": "stream",
          "name": "stdout",
          "text": [
            "Drive already mounted at /content/drive; to attempt to forcibly remount, call drive.mount(\"/content/drive\", force_remount=True).\n"
          ]
        }
      ]
    },
    {
      "cell_type": "code",
      "metadata": {
        "id": "GcmQ4e4KNMkS"
      },
      "source": [
        "# adds image processing capabilities\n",
        "from PIL import Image\n",
        "\n",
        "# will convert the image to text string\n",
        "import pytesseract\n",
        "\n",
        "# translates into preferred language\n",
        "from googletrans import Translator"
      ],
      "execution_count": null,
      "outputs": []
    },
    {
      "cell_type": "code",
      "metadata": {
        "id": "5y3hyxz0NOA3"
      },
      "source": [
        "# assigning an image from the source path\n",
        "img = Image.open('image_text/images/fitzgerald-test.jpg')\n",
        "\n",
        "# converts the image to result and saves it into result variable\n",
        "result = pytesseract.image_to_string(img)"
      ],
      "execution_count": null,
      "outputs": []
    },
    {
      "cell_type": "code",
      "metadata": {
        "id": "oqJbbRwaNOCI"
      },
      "source": [
        "p = Translator()\n",
        "# translates the text into french language\n",
        "k = p.translate(result, dest='hindi')\n",
        "#converts the result into string format\n",
        "translated = str(k.text)"
      ],
      "execution_count": null,
      "outputs": []
    },
    {
      "cell_type": "code",
      "metadata": {
        "id": "iXOksfKENOHR"
      },
      "source": [
        "with open('test.txt', mode ='w') as file:\n",
        "  file.write(result)\n",
        "  file.write(\"\\n\")\n",
        "  file.write(translated)\n",
        "  print(\"ready!\")"
      ],
      "execution_count": null,
      "outputs": []
    },
    {
      "cell_type": "code",
      "metadata": {
        "id": "Jqoz0uQrNOIi"
      },
      "source": [
        ""
      ],
      "execution_count": null,
      "outputs": []
    }
  ]
}